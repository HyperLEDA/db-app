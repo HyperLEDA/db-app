{
 "cells": [
  {
   "cell_type": "code",
   "execution_count": 1,
   "metadata": {},
   "outputs": [],
   "source": [
    "import matplotlib.pyplot as plt\n",
    "import pandas\n",
    "import structlog\n",
    "from astropy import coordinates\n",
    "from astropy import units as u\n",
    "\n",
    "from app.lib.storage import postgres\n"
   ]
  },
  {
   "cell_type": "code",
   "execution_count": null,
   "metadata": {},
   "outputs": [],
   "source": [
    "import os\n",
    "from dataclasses import dataclass\n",
    "\n",
    "from experiments import entities, plots\n",
    "\n",
    "\n",
    "@dataclass\n",
    "class CrossIDInfo:\n",
    "    object_id: str\n",
    "    ra: float\n",
    "    dec: float\n",
    "    name: str\n",
    "    status: entities.CrossIdentificationStatus\n",
    "    pgc_numbers: list[int]\n",
    "\n",
    "\n",
    "df = pandas.read_csv(\"experiments/results/bayes.csv\")\n",
    "\n",
    "df = df[df[\"status\"] == \"collision\"]\n",
    "print(df.head())\n",
    "\n",
    "storage_config = postgres.PgStorageConfig(\n",
    "    endpoint=\"dm2.sao.ru\", port=5432, dbname=\"hyperleda\", user=\"hyperleda\", password=os.getenv(\"DB_PASS\") or \"\"\n",
    ")\n",
    "\n",
    "rows = df.to_dict(orient=\"records\")"
   ]
  },
  {
   "cell_type": "code",
   "execution_count": null,
   "metadata": {},
   "outputs": [],
   "source": [
    "storage = postgres.PgStorage(storage_config, structlog.get_logger())\n",
    "\n",
    "storage.connect()\n",
    "\n",
    "offset = 100\n",
    "grid_rows = 2\n",
    "grid_cols = 2\n",
    "num_objects = grid_rows * grid_cols\n",
    "selected_objs = [CrossIDInfo(**row) for row in rows[offset:num_objects+offset]]\n",
    "\n",
    "fig, axes_arr = plt.subplots(grid_rows, grid_cols, figsize=(5 * grid_cols, 5 * grid_rows))\n",
    "\n",
    "fov = 1 / 60\n",
    "hips_map = 'CDS/P/DESI-Legacy-Surveys/DR10/color'\n",
    "\n",
    "axes_flat = axes_arr.flatten()\n",
    "\n",
    "try:\n",
    "    all_pgc_numbers = set()\n",
    "    obj_to_pgcs = []\n",
    "    for obj in selected_objs:\n",
    "        pgc_numbers = [int(pgc.strip()) for pgc in str(obj.pgc_numbers).split(\",\") if pgc.strip()]\n",
    "        obj_to_pgcs.append(pgc_numbers)\n",
    "        all_pgc_numbers.update(pgc_numbers)\n",
    "\n",
    "    all_pgc_numbers = list(all_pgc_numbers)\n",
    "    all_pgc_data = entities.get_pgc_objects_info(all_pgc_numbers, storage)\n",
    "    pgc_to_obj = {obj.pgc: obj for obj in all_pgc_data}\n",
    "except Exception as e:\n",
    "    raise e\n",
    "finally:\n",
    "    storage.disconnect()\n",
    "\n",
    "for obj, ax, pgc_numbers in zip(selected_objs, axes_flat, obj_to_pgcs, strict=False):\n",
    "   data = [pgc_to_obj[pgc] for pgc in pgc_numbers if pgc in pgc_to_obj]\n",
    "   collision_data = [(curr_obj.ra, curr_obj.dec, curr_obj.name) for curr_obj in data]\n",
    "   coords = coordinates.SkyCoord(ra=obj.ra * u.deg, dec=obj.dec * u.deg)\n",
    "   print(coords)\n",
    "   print(collision_data)\n",
    "   plots.get_hips_map(obj.ra, obj.dec, fov, hips_map, collision_data, ax)\n",
    "\n",
    "\n",
    "# plt.show()"
   ]
  },
  {
   "cell_type": "code",
   "execution_count": null,
   "metadata": {},
   "outputs": [],
   "source": []
  }
 ],
 "metadata": {
  "kernelspec": {
   "display_name": ".venv",
   "language": "python",
   "name": "python3"
  },
  "language_info": {
   "codemirror_mode": {
    "name": "ipython",
    "version": 3
   },
   "file_extension": ".py",
   "mimetype": "text/x-python",
   "name": "python",
   "nbconvert_exporter": "python",
   "pygments_lexer": "ipython3",
   "version": "3.13.2"
  }
 },
 "nbformat": 4,
 "nbformat_minor": 2
}
